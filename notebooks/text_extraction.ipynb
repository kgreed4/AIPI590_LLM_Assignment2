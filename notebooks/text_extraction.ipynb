{
 "cells": [
  {
   "cell_type": "code",
   "execution_count": 18,
   "metadata": {},
   "outputs": [],
   "source": [
    "from PyPDF2 import PdfReader\n",
    "import os\n",
    "import sys"
   ]
  },
  {
   "cell_type": "code",
   "execution_count": 36,
   "metadata": {},
   "outputs": [
    {
     "name": "stdout",
     "output_type": "stream",
     "text": [
      "LEADERSHIP OF THE COXSWAIN .pdf\n",
      "Rules_Of_Rowing_2023_FINAL_PDF.pdf\n",
      "Coaching-the-Coxswain-EXTRACT.pdf\n",
      "Could not read Coaching-the-Coxswain-EXTRACT.pdf. Skipping...\n",
      "TCC Coxswain Handbook 4.pdf\n",
      "2022-23D1WCR_PreChampionshipManual.pdf\n",
      "FiveKeystoCompetitiveCoxing.pdf\n",
      "Coxswain Commands.pdf\n"
     ]
    }
   ],
   "source": [
    "dir = '/Users/katiegreed/Documents/Duke AI Masters/AIPI 590 - Large Language Models/HW/Assignment2/Docs/'\n",
    "\n",
    "data = []\n",
    "data_names = []\n",
    "for doc in os.listdir(dir):\n",
    "    print(doc)\n",
    "    try:\n",
    "        reader = PdfReader(dir + doc)\n",
    "        content = ''\n",
    "        for page in reader.pages:\n",
    "            content += page.extract_text()\n",
    "    except:\n",
    "        print(f\"Could not read {doc}. Skipping...\")\n",
    "    data.append(content)\n",
    "    data_names.append(doc)"
   ]
  },
  {
   "cell_type": "code",
   "execution_count": 52,
   "metadata": {},
   "outputs": [
    {
     "data": {
      "text/plain": [
       "' \\nContact Information:  Yaz Farooq , Head Coach Women\\'s Rowing  \\nStanford University,  Tel: (650) 387-8969 (cell)  \\nyfarooq@stanford.edu      www.gostanford.com       \\nwww.COXSWAINation.com  LEADERSHIP OF THE COXSWAIN \\n \\nYasmin Farooq \\n \\nGoal:  To develop leaders who will implement your coaching philosophies and strategies \\nin practice and on race day.  Discussion will explore the difference between coxswain and rower leaders, making the most of both, a nd how they can work together to create a \\ndynamic and productive environment for the team. \\nOutline: \\n \\n1. Determining the actual ‘roles’ of coxswain and rower leaders \\n \\n2. Walking the Tightrope: Day to Day Leadership \\nThe cox may direct the crew in practices and races, but s/he is not performing the \\nphysical tasks.  How the cox can support the coach and team and still maintain the \\nposition of “teammate.” \\n \\n3. Determining how much responsibility to  assign the coxswain in practice \\n \\n4. The importance of “Quiet Time” \\n \\n5. Development of the coxswain to be an  extension of the coach in the race \\nEnsuring your cox does exactly what you need fr om ‘shove-off’ to cros sing the finish line \\non race day.  \\n \\n6. The coxwain and implementation of strategy in a race scenario \\nDetermining how much flexibility to give your coxswain with strategy and tactical calls. \\n \\n7. Balance and Professionalism \\nManaging the flow of information among coach, coxswain and rowers. \\n \\n \"As a coxswain, I concentrated most on knowing the people in my boat - why they were rowing, why they came down to the boathouse, what made them tick. You have to know whether someone\\'s rowing because they love their mother and hate their father. They\\'re \\nnot sure they are proud of themselves; they wa nt to be proud. Determ ine some of that and \\nyou can tap the strongest parts of those i ndividuals. Being able to inspire someone, \\nunexpected and in a way new and fresh to them , is what made coxswaining special for \\nme.\" –  The Challenge\\n by Devin Mahony, Coxswain, Varsity Heavyweight Eight, \\nHarvard \\'86.  \\n \\n '"
      ]
     },
     "execution_count": 52,
     "metadata": {},
     "output_type": "execute_result"
    }
   ],
   "source": [
    "data[0]"
   ]
  },
  {
   "cell_type": "code",
   "execution_count": 46,
   "metadata": {},
   "outputs": [
    {
     "data": {
      "text/plain": [
       "'LEADERSHIP OF THE COXSWAIN .pdf'"
      ]
     },
     "execution_count": 46,
     "metadata": {},
     "output_type": "execute_result"
    }
   ],
   "source": [
    "data_names[0]"
   ]
  },
  {
   "cell_type": "code",
   "execution_count": 59,
   "metadata": {},
   "outputs": [
    {
     "name": "stdout",
     "output_type": "stream",
     "text": [
      "Created 5 chunks\n",
      "Chunk 1 of 5\n",
      " \n",
      "Contact Information:  Yaz Farooq , Head Coach Women's Rowing  \n",
      "Stanford University,  Tel: (650) 387-8969 (cell)  \n",
      "yfarooq@stanford.edu      www.gostanford.com       \n",
      "www.COXSWAINation.com  LEADERSHIP OF THE COXSWAIN \n",
      " \n",
      "Yasmin Farooq \n",
      " \n",
      "Goal:  To develop leaders who will implement your coaching philosophies and strategies \n",
      "in practice and on race day\n",
      "--------\n",
      "\n",
      "Chunk 2 of 5\n",
      " Discussion will explore the difference between coxswain and rower leaders, making the most of both, a nd how they can work together to create a \n",
      "dynamic and productive environment for the team. \n",
      "Outline: \n",
      " \n",
      "1. Determining the actual ‘roles’ of coxswain and rower leaders \n",
      " \n",
      "2. Walking the Tightrope: Day to Day Leadership \n",
      "The cox may direct the crew in practices and races, but s/he is not performing the \n",
      "physical tasks\n",
      "--------\n",
      "\n",
      "Chunk 3 of 5\n",
      " How the cox can support the coach and team and still maintain the \n",
      "position of “teammate.” \n",
      " \n",
      "3. Determining how much responsibility to  assign the coxswain in practice \n",
      " \n",
      "4. The importance of “Quiet Time” \n",
      " \n",
      "5. Development of the coxswain to be an  extension of the coach in the race \n",
      "Ensuring your cox does exactly what you need fr om ‘shove-off’ to cros sing the finish line \n",
      "on race day.  \n",
      " \n",
      "6\n",
      "--------\n",
      "\n",
      "Chunk 4 of 5\n",
      "The coxwain and implementation of strategy in a race scenario \n",
      "Determining how much flexibility to give your coxswain with strategy and tactical calls. \n",
      " \n",
      "7. Balance and Professionalism \n",
      "Managing the flow of information among coach, coxswain and rowers. \n",
      " \n",
      " \"As a coxswain, I concentrated most on knowing the people in my boat - why they were rowing, why they came down to the boathouse, what made them tick\n",
      "--------\n",
      "\n",
      "Chunk 5 of 5\n",
      "You have to know whether someone's rowing because they love their mother and hate their father. They're \n",
      "not sure they are proud of themselves; they wa nt to be proud. Determ ine some of that and \n",
      "you can tap the strongest parts of those i ndividuals. Being able to inspire someone, \n",
      "unexpected and in a way new and fresh to them , is what made coxswaining special for \n",
      "me.\" –  The Challenge\n",
      " by Devin Mahony, Coxswain, Varsity Heavyweight Eight, \n",
      "Harvard '86.  \n",
      " \n",
      " \n",
      "--------\n",
      "\n"
     ]
    }
   ],
   "source": [
    "'''Create chunks of text that can be processed and vectorized.\n",
    "Want the chunks to end at the end of a senetence and the end of a paragraph.\n",
    "\n",
    "Parameters: \n",
    "text - a string to be chunked \n",
    "Returns: a list of chunks of text\n",
    "'''\n",
    "def create_chunks(text, chunk_size=500):\n",
    "    # Initialize variables\n",
    "    chunks = []\n",
    "    current_chunk = ''\n",
    "    current_size = 0\n",
    "    \n",
    "    # Split the text into paragraphs\n",
    "    paragraphs = text.split('\\n\\n')\n",
    "\n",
    "    # Iterate through each paragraph\n",
    "    for paragraph in paragraphs:\n",
    "        # Split the paragraph into sentences\n",
    "        sentences = paragraph.split('. ')\n",
    "        \n",
    "        # Iterate through each sentence\n",
    "        for sentence in sentences:\n",
    "            # Check if adding the sentence to the current chunk would exceed the chunk size\n",
    "            if len(current_chunk) + len(sentence) + 2 <= chunk_size:  # Add 2 for the period and space\n",
    "                # Add the sentence to the current chunk\n",
    "                if current_chunk:\n",
    "                    current_chunk += '. ' + sentence\n",
    "                else:\n",
    "                    current_chunk += sentence\n",
    "                current_size += len(sentence) + 2  # Update the current size\n",
    "            else:\n",
    "                # Add the current chunk to the list of chunks\n",
    "                chunks.append(current_chunk)\n",
    "                # Reset the current chunk and size to start a new chunk\n",
    "                current_chunk = sentence\n",
    "                current_size = len(sentence)\n",
    "        \n",
    "        # Add the last chunk of the paragraph\n",
    "        if current_chunk:\n",
    "            chunks.append(current_chunk)\n",
    "            current_chunk = ''\n",
    "            current_size = 0\n",
    "    \n",
    "    # Return the list of chunks\n",
    "    print(f'Created {len(chunks)} chunks')\n",
    "    return chunks\n",
    "\n",
    "chunks = create_chunks(data[0])\n",
    "for i in range(5):\n",
    "    print(f'Chunk {i+1} of {len(chunks)}')\n",
    "    print(chunks[i])\n",
    "    print('--------\\n')"
   ]
  }
 ],
 "metadata": {
  "kernelspec": {
   "display_name": "DeepLearning",
   "language": "python",
   "name": "python3"
  },
  "language_info": {
   "codemirror_mode": {
    "name": "ipython",
    "version": 3
   },
   "file_extension": ".py",
   "mimetype": "text/x-python",
   "name": "python",
   "nbconvert_exporter": "python",
   "pygments_lexer": "ipython3",
   "version": "3.12.1"
  }
 },
 "nbformat": 4,
 "nbformat_minor": 2
}
