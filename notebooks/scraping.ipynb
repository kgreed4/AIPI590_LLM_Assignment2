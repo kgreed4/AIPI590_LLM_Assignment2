{
 "cells": [
  {
   "cell_type": "code",
   "execution_count": 4,
   "metadata": {},
   "outputs": [
    {
     "name": "stdout",
     "output_type": "stream",
     "text": [
      "<Response [406]>\n",
      "[]\n"
     ]
    }
   ],
   "source": [
    "import requests\n",
    "from bs4 import BeautifulSoup\n",
    "\n",
    "# URL of the webpage to scrape\n",
    "url = \"https://readyallrow.org/tag/defining-the-role-of-the-coxswain/\"\n",
    "\n",
    "# Send a GET request to the URL\n",
    "response = requests.get(url)\n",
    "\n",
    "# Parse the HTML content\n",
    "soup = BeautifulSoup(response.content, \"html.parser\")\n",
    "\n",
    "# Find all articles\n",
    "articles = soup.find_all(\"article\")\n",
    "print(articles)\n",
    "\n",
    "# Loop through each article and extract the text content\n",
    "for article in articles:\n",
    "    # Extract title\n",
    "    title = article.find(\"h2\", class_=\"entry-title\").text.strip()\n",
    "    print(\"Title:\", title)\n",
    "    \n",
    "    # Extract content\n",
    "    content_paragraphs = article.find(\"div\", class_=\"entry-content\").find_all(\"p\")\n",
    "    content = \"\\n\".join([p.text.strip() for p in content_paragraphs])\n",
    "    print(\"Content:\", content)\n",
    "    \n",
    "    print(\"-\" * 50)\n"
   ]
  }
 ],
 "metadata": {
  "kernelspec": {
   "display_name": "DeepLearning",
   "language": "python",
   "name": "python3"
  },
  "language_info": {
   "codemirror_mode": {
    "name": "ipython",
    "version": 3
   },
   "file_extension": ".py",
   "mimetype": "text/x-python",
   "name": "python",
   "nbconvert_exporter": "python",
   "pygments_lexer": "ipython3",
   "version": "3.12.1"
  }
 },
 "nbformat": 4,
 "nbformat_minor": 2
}
